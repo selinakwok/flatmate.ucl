{
  "nbformat": 4,
  "nbformat_minor": 0,
  "metadata": {
    "colab": {
      "name": "UCL Hackathon.ipynb",
      "provenance": [],
      "collapsed_sections": [],
      "include_colab_link": true
    },
    "kernelspec": {
      "name": "python3",
      "display_name": "Python 3"
    },
    "language_info": {
      "name": "python"
    }
  },
  "cells": [
    {
      "cell_type": "markdown",
      "metadata": {
        "id": "view-in-github",
        "colab_type": "text"
      },
      "source": [
        "<a href=\"https://colab.research.google.com/github/selinakwok/flatmate.ucl/blob/main/flatmate.ucl%20google%20colab.ipynb\" target=\"_parent\"><img src=\"https://colab.research.google.com/assets/colab-badge.svg\" alt=\"Open In Colab\"/></a>"
      ]
    },
    {
      "cell_type": "code",
      "execution_count": null,
      "metadata": {
        "id": "QwU1CQUOxr5I"
      },
      "outputs": [],
      "source": [
        "import pandas as pd\n",
        "import numpy as np\n",
        "import random\n",
        "from random import randrange\n",
        "\n",
        "\n",
        "\n",
        "#from pydrive.auth import GoogleAuth \n",
        "#from pydrive.drive import GoogleDrive\n",
        "#from google.colab import auth\n",
        "#from oauth2client.client import GoogleCredentials\n",
        "#auth.authenticate_user()\n",
        "#gauth = GoogleAuth()\n",
        "#gauth.credentials = GoogleCredentials.get_application_default()\n",
        "#drive = GoogleDrive(gauth)\n",
        "\n",
        "#import logging\n",
        "#logging.getLogger('googleapiclient.discovery_cache').setLevel(logging.ERROR)\n",
        "\n",
        "#file_list = drive.ListFile({'q': \"'12Z4sk7nySNKBMg1MwypgO_y0L0roxivxcemEkyHBv60' in parents and trashed=false\"}).GetList()\n",
        "#for file1 in file_list:\n",
        "#  print('title: %s, id: %s' % (file1['title'], file1['id']))\n",
        "\n",
        "\n",
        "from google.colab import auth\n",
        "auth.authenticate_user()\n",
        "import gspread\n",
        "from oauth2client.client import GoogleCredentials\n",
        "\n",
        "# setup\n",
        "gc = gspread.authorize(GoogleCredentials.get_application_default())\n",
        "\n",
        "# read data and put it in a dataframe\n",
        "gsheets = gc.open_by_url('https://docs.google.com/spreadsheets/d/12Z4sk7nySNKBMg1MwypgO_y0L0roxivxcemEkyHBv60/edit#gid=0')\n",
        "sheets = gsheets.worksheet('Sheet1').get_all_values()"
      ]
    },
    {
      "cell_type": "markdown",
      "source": [
        ""
      ],
      "metadata": {
        "id": "W3cLYiv2ByXE"
      }
    },
    {
      "cell_type": "code",
      "source": [
        "df = pd.DataFrame(sheets[1:], columns=sheets[0])"
      ],
      "metadata": {
        "id": "XrbdkHcSyGnE"
      },
      "execution_count": null,
      "outputs": []
    },
    {
      "cell_type": "code",
      "source": [
        "Religion = [\"Christianity\", \"Islam\", \"Hinduism\", \"Judaism\", \"N.A.\"]\n",
        "Gender = [\"Male\", \"Female\", \"N.A.\"]\n",
        "Diet = [\"Vegan\", \"Hallal\", \"Kosher\", \"N.A.\"]\n",
        "Budget_weekly_max = [\"200\", \"250\", \"300\", \"350\", \"400\"]\n",
        "Location = [\"Camden\", \"Islington\", \"City of Westminster\", \"City of London\", \"Kensingon and Chelsea\",  \"N.A.\"]\n",
        "Total_flatmates = [\"2\", \"3\", \"4\", \"5\", \">5\"]\n",
        "Bedtime = [\"8pm-10pm\",\"10pm-12am\", \"12am-2am\", \"N.A.\"]\n",
        "Smoking = [\"yes\", \"no\", \"N.A.\"]\n",
        "Language = [\"English\", \"Mandarin\", \"Spanish\", \"French\", \"N.A.\"]"
      ],
      "metadata": {
        "id": "q8tomyErhThQ"
      },
      "execution_count": null,
      "outputs": []
    },
    {
      "cell_type": "code",
      "source": [
        "# Creating a list of all caracteristics and a dictionary mapping each caracteristic to its respective list of attributes\n",
        "# Will be useful later to create loops \n",
        "caracteristics = [\"Religion\", \"Gender\", \"Diet\", \"Budget_weekly_max\", \"Location\", \"Total_flatmates\", \"Bedtime\", \"Smoking\", \"Language\"]\n",
        "from_caracteristic_to_fields = {\"Religion\": Religion, \"Gender\": Gender, \"Diet\": Diet, \"Budget_weekly_max\": Budget_weekly_max, \"Location\": Location, \"Total_flatmates\": Total_flatmates, \"Bedtime\": Bedtime, \"Smoking\": Smoking, \"Language\": Language}"
      ],
      "metadata": {
        "id": "XstdVndr-Q4h"
      },
      "execution_count": null,
      "outputs": []
    },
    {
      "cell_type": "code",
      "source": [
        "# First loop is creating empty columns for each caracteristic\n",
        "# Second loop inserts a random amount of values from the respective list of attributes\n",
        "# The function choice() has no parameter to avoid repetition, we deal with this below\n",
        "rng = np.random.default_rng()\n",
        "for j in range(len(caracteristics)):\n",
        "  c = caracteristics[j]\n",
        "  df[c] = np.nan\n",
        "  for i in range(len(df)):\n",
        "    df[c].iloc[i]= rng.choice(from_caracteristic_to_fields[c], random.randint(1,len(from_caracteristic_to_fields[c])))"
      ],
      "metadata": {
        "colab": {
          "base_uri": "https://localhost:8080/"
        },
        "id": "1PdrRyGQ-J4b",
        "outputId": "0d85664f-6fb4-4959-f7d3-3665e9ad3f18"
      },
      "execution_count": null,
      "outputs": [
        {
          "output_type": "stream",
          "name": "stderr",
          "text": [
            "/usr/local/lib/python3.7/dist-packages/pandas/core/indexing.py:1732: SettingWithCopyWarning: \n",
            "A value is trying to be set on a copy of a slice from a DataFrame\n",
            "\n",
            "See the caveats in the documentation: https://pandas.pydata.org/pandas-docs/stable/user_guide/indexing.html#returning-a-view-versus-a-copy\n",
            "  self._setitem_single_block(indexer, value, name)\n"
          ]
        }
      ]
    },
    {
      "cell_type": "code",
      "source": [
        "# del df['Bedtime'], del df['Location'], and del df['Budget_weekly_max'] were used to remove these columns from the df dataframe"
      ],
      "metadata": {
        "id": "xjIh9acUIrfe"
      },
      "execution_count": null,
      "outputs": []
    },
    {
      "cell_type": "code",
      "source": [
        "# First loop iterates through the columns of the dataframe, second loop trough the rows\n",
        "# Both loops remove duplicate values of every list in the dataframe\n",
        "for k in range(1, len(df.columns)):\n",
        "  for l in range(len(df)):\n",
        "    df.iat[l,k] = list(dict.fromkeys(df.iat[l,k]))"
      ],
      "metadata": {
        "id": "bo-v7ueXafIf"
      },
      "execution_count": null,
      "outputs": []
    },
    {
      "cell_type": "code",
      "source": [
        "df.head()"
      ],
      "metadata": {
        "colab": {
          "base_uri": "https://localhost:8080/",
          "height": 204
        },
        "id": "JIC7MPTJf9mW",
        "outputId": "c44cc218-d24c-49d8-ddfc-08242f4a7870"
      },
      "execution_count": null,
      "outputs": [
        {
          "output_type": "execute_result",
          "data": {
            "text/html": [
              "\n",
              "  <div id=\"df-20fe7f33-f7ff-4123-9d83-1c0e7d9d1861\">\n",
              "    <div class=\"colab-df-container\">\n",
              "      <div>\n",
              "<style scoped>\n",
              "    .dataframe tbody tr th:only-of-type {\n",
              "        vertical-align: middle;\n",
              "    }\n",
              "\n",
              "    .dataframe tbody tr th {\n",
              "        vertical-align: top;\n",
              "    }\n",
              "\n",
              "    .dataframe thead th {\n",
              "        text-align: right;\n",
              "    }\n",
              "</style>\n",
              "<table border=\"1\" class=\"dataframe\">\n",
              "  <thead>\n",
              "    <tr style=\"text-align: right;\">\n",
              "      <th></th>\n",
              "      <th>Name</th>\n",
              "      <th>Religion</th>\n",
              "      <th>Gender</th>\n",
              "      <th>Diet</th>\n",
              "      <th>Total_flatmates</th>\n",
              "      <th>Smoking</th>\n",
              "      <th>Language</th>\n",
              "    </tr>\n",
              "  </thead>\n",
              "  <tbody>\n",
              "    <tr>\n",
              "      <th>0</th>\n",
              "      <td>Ben</td>\n",
              "      <td>[Islam, Christianity, Hinduism]</td>\n",
              "      <td>[Female, N.A.]</td>\n",
              "      <td>[Kosher, Hallal]</td>\n",
              "      <td>[4]</td>\n",
              "      <td>[yes]</td>\n",
              "      <td>[N.A., Mandarin]</td>\n",
              "    </tr>\n",
              "    <tr>\n",
              "      <th>1</th>\n",
              "      <td>Max</td>\n",
              "      <td>[Islam, Christianity, Judaism]</td>\n",
              "      <td>[N.A., Male]</td>\n",
              "      <td>[Vegan, N.A., Hallal]</td>\n",
              "      <td>[&gt;5, 4, 2, 5]</td>\n",
              "      <td>[N.A.]</td>\n",
              "      <td>[French, Spanish, Mandarin]</td>\n",
              "    </tr>\n",
              "    <tr>\n",
              "      <th>2</th>\n",
              "      <td>Lapo</td>\n",
              "      <td>[Christianity]</td>\n",
              "      <td>[Female]</td>\n",
              "      <td>[Kosher]</td>\n",
              "      <td>[&gt;5, 3, 4]</td>\n",
              "      <td>[yes, no]</td>\n",
              "      <td>[English]</td>\n",
              "    </tr>\n",
              "    <tr>\n",
              "      <th>3</th>\n",
              "      <td>Raphael</td>\n",
              "      <td>[Judaism]</td>\n",
              "      <td>[Female]</td>\n",
              "      <td>[Kosher, Vegan]</td>\n",
              "      <td>[3, 5]</td>\n",
              "      <td>[N.A.]</td>\n",
              "      <td>[English, Spanish]</td>\n",
              "    </tr>\n",
              "    <tr>\n",
              "      <th>4</th>\n",
              "      <td>Yu</td>\n",
              "      <td>[Judaism, Hinduism, N.A.]</td>\n",
              "      <td>[N.A., Female]</td>\n",
              "      <td>[N.A., Kosher, Vegan]</td>\n",
              "      <td>[2]</td>\n",
              "      <td>[no]</td>\n",
              "      <td>[French, N.A.]</td>\n",
              "    </tr>\n",
              "  </tbody>\n",
              "</table>\n",
              "</div>\n",
              "      <button class=\"colab-df-convert\" onclick=\"convertToInteractive('df-20fe7f33-f7ff-4123-9d83-1c0e7d9d1861')\"\n",
              "              title=\"Convert this dataframe to an interactive table.\"\n",
              "              style=\"display:none;\">\n",
              "        \n",
              "  <svg xmlns=\"http://www.w3.org/2000/svg\" height=\"24px\"viewBox=\"0 0 24 24\"\n",
              "       width=\"24px\">\n",
              "    <path d=\"M0 0h24v24H0V0z\" fill=\"none\"/>\n",
              "    <path d=\"M18.56 5.44l.94 2.06.94-2.06 2.06-.94-2.06-.94-.94-2.06-.94 2.06-2.06.94zm-11 1L8.5 8.5l.94-2.06 2.06-.94-2.06-.94L8.5 2.5l-.94 2.06-2.06.94zm10 10l.94 2.06.94-2.06 2.06-.94-2.06-.94-.94-2.06-.94 2.06-2.06.94z\"/><path d=\"M17.41 7.96l-1.37-1.37c-.4-.4-.92-.59-1.43-.59-.52 0-1.04.2-1.43.59L10.3 9.45l-7.72 7.72c-.78.78-.78 2.05 0 2.83L4 21.41c.39.39.9.59 1.41.59.51 0 1.02-.2 1.41-.59l7.78-7.78 2.81-2.81c.8-.78.8-2.07 0-2.86zM5.41 20L4 18.59l7.72-7.72 1.47 1.35L5.41 20z\"/>\n",
              "  </svg>\n",
              "      </button>\n",
              "      \n",
              "  <style>\n",
              "    .colab-df-container {\n",
              "      display:flex;\n",
              "      flex-wrap:wrap;\n",
              "      gap: 12px;\n",
              "    }\n",
              "\n",
              "    .colab-df-convert {\n",
              "      background-color: #E8F0FE;\n",
              "      border: none;\n",
              "      border-radius: 50%;\n",
              "      cursor: pointer;\n",
              "      display: none;\n",
              "      fill: #1967D2;\n",
              "      height: 32px;\n",
              "      padding: 0 0 0 0;\n",
              "      width: 32px;\n",
              "    }\n",
              "\n",
              "    .colab-df-convert:hover {\n",
              "      background-color: #E2EBFA;\n",
              "      box-shadow: 0px 1px 2px rgba(60, 64, 67, 0.3), 0px 1px 3px 1px rgba(60, 64, 67, 0.15);\n",
              "      fill: #174EA6;\n",
              "    }\n",
              "\n",
              "    [theme=dark] .colab-df-convert {\n",
              "      background-color: #3B4455;\n",
              "      fill: #D2E3FC;\n",
              "    }\n",
              "\n",
              "    [theme=dark] .colab-df-convert:hover {\n",
              "      background-color: #434B5C;\n",
              "      box-shadow: 0px 1px 3px 1px rgba(0, 0, 0, 0.15);\n",
              "      filter: drop-shadow(0px 1px 2px rgba(0, 0, 0, 0.3));\n",
              "      fill: #FFFFFF;\n",
              "    }\n",
              "  </style>\n",
              "\n",
              "      <script>\n",
              "        const buttonEl =\n",
              "          document.querySelector('#df-20fe7f33-f7ff-4123-9d83-1c0e7d9d1861 button.colab-df-convert');\n",
              "        buttonEl.style.display =\n",
              "          google.colab.kernel.accessAllowed ? 'block' : 'none';\n",
              "\n",
              "        async function convertToInteractive(key) {\n",
              "          const element = document.querySelector('#df-20fe7f33-f7ff-4123-9d83-1c0e7d9d1861');\n",
              "          const dataTable =\n",
              "            await google.colab.kernel.invokeFunction('convertToInteractive',\n",
              "                                                     [key], {});\n",
              "          if (!dataTable) return;\n",
              "\n",
              "          const docLinkHtml = 'Like what you see? Visit the ' +\n",
              "            '<a target=\"_blank\" href=https://colab.research.google.com/notebooks/data_table.ipynb>data table notebook</a>'\n",
              "            + ' to learn more about interactive tables.';\n",
              "          element.innerHTML = '';\n",
              "          dataTable['output_type'] = 'display_data';\n",
              "          await google.colab.output.renderOutput(dataTable, element);\n",
              "          const docLink = document.createElement('div');\n",
              "          docLink.innerHTML = docLinkHtml;\n",
              "          element.appendChild(docLink);\n",
              "        }\n",
              "      </script>\n",
              "    </div>\n",
              "  </div>\n",
              "  "
            ],
            "text/plain": [
              "      Name  ...                     Language\n",
              "0      Ben  ...             [N.A., Mandarin]\n",
              "1      Max  ...  [French, Spanish, Mandarin]\n",
              "2     Lapo  ...                    [English]\n",
              "3  Raphael  ...           [English, Spanish]\n",
              "4       Yu  ...               [French, N.A.]\n",
              "\n",
              "[5 rows x 7 columns]"
            ]
          },
          "metadata": {},
          "execution_count": 22
        }
      ]
    },
    {
      "cell_type": "code",
      "source": [
        "# Start from scratch (That is, only the names column in a new copy of the dataframe)\n",
        "df_personal = pd.DataFrame(sheets[1:], columns=sheets[0])"
      ],
      "metadata": {
        "id": "vtx917pPRmyT"
      },
      "execution_count": null,
      "outputs": []
    },
    {
      "cell_type": "code",
      "source": [
        "# Creating the dataframe for personal information, again randomly picking one attribute per charachteristic\n",
        "for j in range(len(caracteristics)):\n",
        "  c = caracteristics[j]\n",
        "  df_personal[c] = np.nan\n",
        "  for i in range(len(df)):\n",
        "    df_personal[c].iloc[i]= random.choice(from_caracteristic_to_fields[c])"
      ],
      "metadata": {
        "id": "cZQu8wFgR1RZ",
        "colab": {
          "base_uri": "https://localhost:8080/"
        },
        "outputId": "ca4d9fa8-4527-45b3-8849-b4092ce510fd"
      },
      "execution_count": null,
      "outputs": [
        {
          "output_type": "stream",
          "name": "stderr",
          "text": [
            "/usr/local/lib/python3.7/dist-packages/pandas/core/indexing.py:1732: SettingWithCopyWarning: \n",
            "A value is trying to be set on a copy of a slice from a DataFrame\n",
            "\n",
            "See the caveats in the documentation: https://pandas.pydata.org/pandas-docs/stable/user_guide/indexing.html#returning-a-view-versus-a-copy\n",
            "  self._setitem_single_block(indexer, value, name)\n"
          ]
        }
      ]
    },
    {
      "cell_type": "code",
      "source": [
        "df_personal.head()"
      ],
      "metadata": {
        "colab": {
          "base_uri": "https://localhost:8080/",
          "height": 204
        },
        "id": "nMpTXrLPkrI0",
        "outputId": "77369a62-b4b9-4f87-fa3b-3252b22f6a4e"
      },
      "execution_count": null,
      "outputs": [
        {
          "output_type": "execute_result",
          "data": {
            "text/html": [
              "\n",
              "  <div id=\"df-1e174715-00ed-4765-8034-d14a28f9766d\">\n",
              "    <div class=\"colab-df-container\">\n",
              "      <div>\n",
              "<style scoped>\n",
              "    .dataframe tbody tr th:only-of-type {\n",
              "        vertical-align: middle;\n",
              "    }\n",
              "\n",
              "    .dataframe tbody tr th {\n",
              "        vertical-align: top;\n",
              "    }\n",
              "\n",
              "    .dataframe thead th {\n",
              "        text-align: right;\n",
              "    }\n",
              "</style>\n",
              "<table border=\"1\" class=\"dataframe\">\n",
              "  <thead>\n",
              "    <tr style=\"text-align: right;\">\n",
              "      <th></th>\n",
              "      <th>Name</th>\n",
              "      <th>Religion</th>\n",
              "      <th>Gender</th>\n",
              "      <th>Diet</th>\n",
              "      <th>Budget_weekly_max</th>\n",
              "      <th>Location</th>\n",
              "      <th>Total_flatmates</th>\n",
              "      <th>Bedtime</th>\n",
              "      <th>Smoking</th>\n",
              "      <th>Language</th>\n",
              "    </tr>\n",
              "  </thead>\n",
              "  <tbody>\n",
              "    <tr>\n",
              "      <th>0</th>\n",
              "      <td>Ben</td>\n",
              "      <td>N.A.</td>\n",
              "      <td>Male</td>\n",
              "      <td>Vegan</td>\n",
              "      <td>300</td>\n",
              "      <td>City of Westminster</td>\n",
              "      <td>3</td>\n",
              "      <td>N.A.</td>\n",
              "      <td>N.A.</td>\n",
              "      <td>N.A.</td>\n",
              "    </tr>\n",
              "    <tr>\n",
              "      <th>1</th>\n",
              "      <td>Max</td>\n",
              "      <td>N.A.</td>\n",
              "      <td>Male</td>\n",
              "      <td>N.A.</td>\n",
              "      <td>200</td>\n",
              "      <td>Camden</td>\n",
              "      <td>3</td>\n",
              "      <td>8pm-10pm</td>\n",
              "      <td>yes</td>\n",
              "      <td>French</td>\n",
              "    </tr>\n",
              "    <tr>\n",
              "      <th>2</th>\n",
              "      <td>Lapo</td>\n",
              "      <td>Judaism</td>\n",
              "      <td>Male</td>\n",
              "      <td>N.A.</td>\n",
              "      <td>350</td>\n",
              "      <td>N.A.</td>\n",
              "      <td>&gt;5</td>\n",
              "      <td>12am-2am</td>\n",
              "      <td>no</td>\n",
              "      <td>Mandarin</td>\n",
              "    </tr>\n",
              "    <tr>\n",
              "      <th>3</th>\n",
              "      <td>Raphael</td>\n",
              "      <td>Judaism</td>\n",
              "      <td>Female</td>\n",
              "      <td>Hallal</td>\n",
              "      <td>350</td>\n",
              "      <td>N.A.</td>\n",
              "      <td>2</td>\n",
              "      <td>12am-2am</td>\n",
              "      <td>no</td>\n",
              "      <td>N.A.</td>\n",
              "    </tr>\n",
              "    <tr>\n",
              "      <th>4</th>\n",
              "      <td>Yu</td>\n",
              "      <td>Hinduism</td>\n",
              "      <td>N.A.</td>\n",
              "      <td>Hallal</td>\n",
              "      <td>350</td>\n",
              "      <td>Islington</td>\n",
              "      <td>4</td>\n",
              "      <td>10pm-12am</td>\n",
              "      <td>yes</td>\n",
              "      <td>French</td>\n",
              "    </tr>\n",
              "  </tbody>\n",
              "</table>\n",
              "</div>\n",
              "      <button class=\"colab-df-convert\" onclick=\"convertToInteractive('df-1e174715-00ed-4765-8034-d14a28f9766d')\"\n",
              "              title=\"Convert this dataframe to an interactive table.\"\n",
              "              style=\"display:none;\">\n",
              "        \n",
              "  <svg xmlns=\"http://www.w3.org/2000/svg\" height=\"24px\"viewBox=\"0 0 24 24\"\n",
              "       width=\"24px\">\n",
              "    <path d=\"M0 0h24v24H0V0z\" fill=\"none\"/>\n",
              "    <path d=\"M18.56 5.44l.94 2.06.94-2.06 2.06-.94-2.06-.94-.94-2.06-.94 2.06-2.06.94zm-11 1L8.5 8.5l.94-2.06 2.06-.94-2.06-.94L8.5 2.5l-.94 2.06-2.06.94zm10 10l.94 2.06.94-2.06 2.06-.94-2.06-.94-.94-2.06-.94 2.06-2.06.94z\"/><path d=\"M17.41 7.96l-1.37-1.37c-.4-.4-.92-.59-1.43-.59-.52 0-1.04.2-1.43.59L10.3 9.45l-7.72 7.72c-.78.78-.78 2.05 0 2.83L4 21.41c.39.39.9.59 1.41.59.51 0 1.02-.2 1.41-.59l7.78-7.78 2.81-2.81c.8-.78.8-2.07 0-2.86zM5.41 20L4 18.59l7.72-7.72 1.47 1.35L5.41 20z\"/>\n",
              "  </svg>\n",
              "      </button>\n",
              "      \n",
              "  <style>\n",
              "    .colab-df-container {\n",
              "      display:flex;\n",
              "      flex-wrap:wrap;\n",
              "      gap: 12px;\n",
              "    }\n",
              "\n",
              "    .colab-df-convert {\n",
              "      background-color: #E8F0FE;\n",
              "      border: none;\n",
              "      border-radius: 50%;\n",
              "      cursor: pointer;\n",
              "      display: none;\n",
              "      fill: #1967D2;\n",
              "      height: 32px;\n",
              "      padding: 0 0 0 0;\n",
              "      width: 32px;\n",
              "    }\n",
              "\n",
              "    .colab-df-convert:hover {\n",
              "      background-color: #E2EBFA;\n",
              "      box-shadow: 0px 1px 2px rgba(60, 64, 67, 0.3), 0px 1px 3px 1px rgba(60, 64, 67, 0.15);\n",
              "      fill: #174EA6;\n",
              "    }\n",
              "\n",
              "    [theme=dark] .colab-df-convert {\n",
              "      background-color: #3B4455;\n",
              "      fill: #D2E3FC;\n",
              "    }\n",
              "\n",
              "    [theme=dark] .colab-df-convert:hover {\n",
              "      background-color: #434B5C;\n",
              "      box-shadow: 0px 1px 3px 1px rgba(0, 0, 0, 0.15);\n",
              "      filter: drop-shadow(0px 1px 2px rgba(0, 0, 0, 0.3));\n",
              "      fill: #FFFFFF;\n",
              "    }\n",
              "  </style>\n",
              "\n",
              "      <script>\n",
              "        const buttonEl =\n",
              "          document.querySelector('#df-1e174715-00ed-4765-8034-d14a28f9766d button.colab-df-convert');\n",
              "        buttonEl.style.display =\n",
              "          google.colab.kernel.accessAllowed ? 'block' : 'none';\n",
              "\n",
              "        async function convertToInteractive(key) {\n",
              "          const element = document.querySelector('#df-1e174715-00ed-4765-8034-d14a28f9766d');\n",
              "          const dataTable =\n",
              "            await google.colab.kernel.invokeFunction('convertToInteractive',\n",
              "                                                     [key], {});\n",
              "          if (!dataTable) return;\n",
              "\n",
              "          const docLinkHtml = 'Like what you see? Visit the ' +\n",
              "            '<a target=\"_blank\" href=https://colab.research.google.com/notebooks/data_table.ipynb>data table notebook</a>'\n",
              "            + ' to learn more about interactive tables.';\n",
              "          element.innerHTML = '';\n",
              "          dataTable['output_type'] = 'display_data';\n",
              "          await google.colab.output.renderOutput(dataTable, element);\n",
              "          const docLink = document.createElement('div');\n",
              "          docLink.innerHTML = docLinkHtml;\n",
              "          element.appendChild(docLink);\n",
              "        }\n",
              "      </script>\n",
              "    </div>\n",
              "  </div>\n",
              "  "
            ],
            "text/plain": [
              "      Name  Religion  Gender  ...    Bedtime Smoking  Language\n",
              "0      Ben      N.A.    Male  ...       N.A.    N.A.      N.A.\n",
              "1      Max      N.A.    Male  ...   8pm-10pm     yes    French\n",
              "2     Lapo   Judaism    Male  ...   12am-2am      no  Mandarin\n",
              "3  Raphael   Judaism  Female  ...   12am-2am      no      N.A.\n",
              "4       Yu  Hinduism    N.A.  ...  10pm-12am     yes    French\n",
              "\n",
              "[5 rows x 10 columns]"
            ]
          },
          "metadata": {},
          "execution_count": 120
        }
      ]
    },
    {
      "cell_type": "code",
      "source": [
        "# Dropping the unnecessary columns for this part\n",
        "df_personal_short = df_personal.drop([\"Religion\", \"Gender\", \"Diet\", \"Total_flatmates\", \"Smoking\", \"Language\"], axis=1)\n",
        "df_personal_short.head()"
      ],
      "metadata": {
        "colab": {
          "base_uri": "https://localhost:8080/",
          "height": 204
        },
        "id": "IKwhwPQWEGv8",
        "outputId": "b67afb2c-5ff2-4a93-be7b-02e1f7b11982"
      },
      "execution_count": null,
      "outputs": [
        {
          "output_type": "execute_result",
          "data": {
            "text/html": [
              "\n",
              "  <div id=\"df-d21881aa-b049-44bf-b201-86de2683c6f5\">\n",
              "    <div class=\"colab-df-container\">\n",
              "      <div>\n",
              "<style scoped>\n",
              "    .dataframe tbody tr th:only-of-type {\n",
              "        vertical-align: middle;\n",
              "    }\n",
              "\n",
              "    .dataframe tbody tr th {\n",
              "        vertical-align: top;\n",
              "    }\n",
              "\n",
              "    .dataframe thead th {\n",
              "        text-align: right;\n",
              "    }\n",
              "</style>\n",
              "<table border=\"1\" class=\"dataframe\">\n",
              "  <thead>\n",
              "    <tr style=\"text-align: right;\">\n",
              "      <th></th>\n",
              "      <th>Name</th>\n",
              "      <th>Budget_weekly_max</th>\n",
              "      <th>Location</th>\n",
              "      <th>Bedtime</th>\n",
              "    </tr>\n",
              "  </thead>\n",
              "  <tbody>\n",
              "    <tr>\n",
              "      <th>0</th>\n",
              "      <td>Ben</td>\n",
              "      <td>300</td>\n",
              "      <td>City of Westminster</td>\n",
              "      <td>N.A.</td>\n",
              "    </tr>\n",
              "    <tr>\n",
              "      <th>1</th>\n",
              "      <td>Max</td>\n",
              "      <td>200</td>\n",
              "      <td>Camden</td>\n",
              "      <td>8pm-10pm</td>\n",
              "    </tr>\n",
              "    <tr>\n",
              "      <th>2</th>\n",
              "      <td>Lapo</td>\n",
              "      <td>350</td>\n",
              "      <td>N.A.</td>\n",
              "      <td>12am-2am</td>\n",
              "    </tr>\n",
              "    <tr>\n",
              "      <th>3</th>\n",
              "      <td>Raphael</td>\n",
              "      <td>350</td>\n",
              "      <td>N.A.</td>\n",
              "      <td>12am-2am</td>\n",
              "    </tr>\n",
              "    <tr>\n",
              "      <th>4</th>\n",
              "      <td>Yu</td>\n",
              "      <td>350</td>\n",
              "      <td>Islington</td>\n",
              "      <td>10pm-12am</td>\n",
              "    </tr>\n",
              "  </tbody>\n",
              "</table>\n",
              "</div>\n",
              "      <button class=\"colab-df-convert\" onclick=\"convertToInteractive('df-d21881aa-b049-44bf-b201-86de2683c6f5')\"\n",
              "              title=\"Convert this dataframe to an interactive table.\"\n",
              "              style=\"display:none;\">\n",
              "        \n",
              "  <svg xmlns=\"http://www.w3.org/2000/svg\" height=\"24px\"viewBox=\"0 0 24 24\"\n",
              "       width=\"24px\">\n",
              "    <path d=\"M0 0h24v24H0V0z\" fill=\"none\"/>\n",
              "    <path d=\"M18.56 5.44l.94 2.06.94-2.06 2.06-.94-2.06-.94-.94-2.06-.94 2.06-2.06.94zm-11 1L8.5 8.5l.94-2.06 2.06-.94-2.06-.94L8.5 2.5l-.94 2.06-2.06.94zm10 10l.94 2.06.94-2.06 2.06-.94-2.06-.94-.94-2.06-.94 2.06-2.06.94z\"/><path d=\"M17.41 7.96l-1.37-1.37c-.4-.4-.92-.59-1.43-.59-.52 0-1.04.2-1.43.59L10.3 9.45l-7.72 7.72c-.78.78-.78 2.05 0 2.83L4 21.41c.39.39.9.59 1.41.59.51 0 1.02-.2 1.41-.59l7.78-7.78 2.81-2.81c.8-.78.8-2.07 0-2.86zM5.41 20L4 18.59l7.72-7.72 1.47 1.35L5.41 20z\"/>\n",
              "  </svg>\n",
              "      </button>\n",
              "      \n",
              "  <style>\n",
              "    .colab-df-container {\n",
              "      display:flex;\n",
              "      flex-wrap:wrap;\n",
              "      gap: 12px;\n",
              "    }\n",
              "\n",
              "    .colab-df-convert {\n",
              "      background-color: #E8F0FE;\n",
              "      border: none;\n",
              "      border-radius: 50%;\n",
              "      cursor: pointer;\n",
              "      display: none;\n",
              "      fill: #1967D2;\n",
              "      height: 32px;\n",
              "      padding: 0 0 0 0;\n",
              "      width: 32px;\n",
              "    }\n",
              "\n",
              "    .colab-df-convert:hover {\n",
              "      background-color: #E2EBFA;\n",
              "      box-shadow: 0px 1px 2px rgba(60, 64, 67, 0.3), 0px 1px 3px 1px rgba(60, 64, 67, 0.15);\n",
              "      fill: #174EA6;\n",
              "    }\n",
              "\n",
              "    [theme=dark] .colab-df-convert {\n",
              "      background-color: #3B4455;\n",
              "      fill: #D2E3FC;\n",
              "    }\n",
              "\n",
              "    [theme=dark] .colab-df-convert:hover {\n",
              "      background-color: #434B5C;\n",
              "      box-shadow: 0px 1px 3px 1px rgba(0, 0, 0, 0.15);\n",
              "      filter: drop-shadow(0px 1px 2px rgba(0, 0, 0, 0.3));\n",
              "      fill: #FFFFFF;\n",
              "    }\n",
              "  </style>\n",
              "\n",
              "      <script>\n",
              "        const buttonEl =\n",
              "          document.querySelector('#df-d21881aa-b049-44bf-b201-86de2683c6f5 button.colab-df-convert');\n",
              "        buttonEl.style.display =\n",
              "          google.colab.kernel.accessAllowed ? 'block' : 'none';\n",
              "\n",
              "        async function convertToInteractive(key) {\n",
              "          const element = document.querySelector('#df-d21881aa-b049-44bf-b201-86de2683c6f5');\n",
              "          const dataTable =\n",
              "            await google.colab.kernel.invokeFunction('convertToInteractive',\n",
              "                                                     [key], {});\n",
              "          if (!dataTable) return;\n",
              "\n",
              "          const docLinkHtml = 'Like what you see? Visit the ' +\n",
              "            '<a target=\"_blank\" href=https://colab.research.google.com/notebooks/data_table.ipynb>data table notebook</a>'\n",
              "            + ' to learn more about interactive tables.';\n",
              "          element.innerHTML = '';\n",
              "          dataTable['output_type'] = 'display_data';\n",
              "          await google.colab.output.renderOutput(dataTable, element);\n",
              "          const docLink = document.createElement('div');\n",
              "          docLink.innerHTML = docLinkHtml;\n",
              "          element.appendChild(docLink);\n",
              "        }\n",
              "      </script>\n",
              "    </div>\n",
              "  </div>\n",
              "  "
            ],
            "text/plain": [
              "      Name Budget_weekly_max             Location    Bedtime\n",
              "0      Ben               300  City of Westminster       N.A.\n",
              "1      Max               200               Camden   8pm-10pm\n",
              "2     Lapo               350                 N.A.   12am-2am\n",
              "3  Raphael               350                 N.A.   12am-2am\n",
              "4       Yu               350            Islington  10pm-12am"
            ]
          },
          "metadata": {},
          "execution_count": 124
        }
      ]
    },
    {
      "cell_type": "code",
      "source": [
        "# This function takes a name as an input and returns all the people (by name) who have the same budget, location, and bedtime preferences\n",
        "def find_compatible(index):\n",
        "  name = df_personal_short.iloc[index,0]\n",
        "  weekly_max = df_personal_short.iloc[index,1]\n",
        "  location = df_personal_short.iloc[index,2]\n",
        "  bedtime = df_personal_short.iloc[index,3]\n",
        "\n",
        "  for i in range(len(df_personal_short)):\n",
        "\n",
        "    other_name = df_personal_short.iloc[i,0]\n",
        "    other_weekly_max = df_personal_short.iloc[i,1]\n",
        "    other_location = df_personal_short.iloc[i,2]\n",
        "    other_bedtime = df_personal_short.iloc[i,3]\n",
        "\n",
        "  \n",
        "    if int(weekly_max) <= int(other_weekly_max) and location == other_location and bedtime == other_bedtime and name!= other_name:\n",
        "      print(other_name)\n",
        "\n",
        "find_compatible()"
      ],
      "metadata": {
        "colab": {
          "base_uri": "https://localhost:8080/"
        },
        "id": "YRYq6zMjGt5m",
        "outputId": "e6278962-6938-47da-8dcd-815669dd4ab9"
      },
      "execution_count": null,
      "outputs": [
        {
          "output_type": "stream",
          "name": "stdout",
          "text": [
            "Soline\n"
          ]
        }
      ]
    },
    {
      "cell_type": "code",
      "source": [
        "for i in range(df_personal_short):\n",
        "  compatibility = find_compatible()"
      ],
      "metadata": {
        "id": "fw9M52BHVZaT"
      },
      "execution_count": null,
      "outputs": []
    },
    {
      "cell_type": "code",
      "source": [
        "# This block sends an email to the person who submitted the form\n",
        "# email contains the return of the above function\n",
        "import smtplib, ssl\n",
        "\n",
        "port = 465  # For SSL\n",
        "smtp_server = \"smtp.gmail.com\"\n",
        "sender_email = \"flatmate.ucl@gmail.com\"  # Enter your address\n",
        "receiver_email = \"enter user email here\"  # Enter receiver address\n",
        "password = \"flatmate123\"\n",
        "message = \"enter details about potential room mates and include email address and criteria\"\n",
        "\n",
        "context = ssl.create_default_context()\n",
        "with smtplib.SMTP_SSL(smtp_server, port, context=context) as server:\n",
        "    server.login(sender_email, password)\n",
        "    server.sendmail(sender_email, receiver_email, message)\n",
        "\n",
        "#this part is responsible for sending email response to the user containing all potential matches for a flatmate. "
      ],
      "metadata": {
        "id": "IU6T6sKnSfFl",
        "colab": {
          "base_uri": "https://localhost:8080/",
          "height": 334
        },
        "outputId": "d1769754-2ecd-44e9-a4f6-5b0dea0ea33c"
      },
      "execution_count": null,
      "outputs": [
        {
          "output_type": "error",
          "ename": "SMTPRecipientsRefused",
          "evalue": "ignored",
          "traceback": [
            "\u001b[0;31m---------------------------------------------------------------------------\u001b[0m",
            "\u001b[0;31mSMTPRecipientsRefused\u001b[0m                     Traceback (most recent call last)",
            "\u001b[0;32m<ipython-input-103-ae4506f08198>\u001b[0m in \u001b[0;36m<module>\u001b[0;34m()\u001b[0m\n\u001b[1;32m     11\u001b[0m \u001b[0;32mwith\u001b[0m \u001b[0msmtplib\u001b[0m\u001b[0;34m.\u001b[0m\u001b[0mSMTP_SSL\u001b[0m\u001b[0;34m(\u001b[0m\u001b[0msmtp_server\u001b[0m\u001b[0;34m,\u001b[0m \u001b[0mport\u001b[0m\u001b[0;34m,\u001b[0m \u001b[0mcontext\u001b[0m\u001b[0;34m=\u001b[0m\u001b[0mcontext\u001b[0m\u001b[0;34m)\u001b[0m \u001b[0;32mas\u001b[0m \u001b[0mserver\u001b[0m\u001b[0;34m:\u001b[0m\u001b[0;34m\u001b[0m\u001b[0;34m\u001b[0m\u001b[0m\n\u001b[1;32m     12\u001b[0m     \u001b[0mserver\u001b[0m\u001b[0;34m.\u001b[0m\u001b[0mlogin\u001b[0m\u001b[0;34m(\u001b[0m\u001b[0msender_email\u001b[0m\u001b[0;34m,\u001b[0m \u001b[0mpassword\u001b[0m\u001b[0;34m)\u001b[0m\u001b[0;34m\u001b[0m\u001b[0;34m\u001b[0m\u001b[0m\n\u001b[0;32m---> 13\u001b[0;31m     \u001b[0mserver\u001b[0m\u001b[0;34m.\u001b[0m\u001b[0msendmail\u001b[0m\u001b[0;34m(\u001b[0m\u001b[0msender_email\u001b[0m\u001b[0;34m,\u001b[0m \u001b[0mreceiver_email\u001b[0m\u001b[0;34m,\u001b[0m \u001b[0mmessage\u001b[0m\u001b[0;34m)\u001b[0m\u001b[0;34m\u001b[0m\u001b[0;34m\u001b[0m\u001b[0m\n\u001b[0m",
            "\u001b[0;32m/usr/lib/python3.7/smtplib.py\u001b[0m in \u001b[0;36msendmail\u001b[0;34m(self, from_addr, to_addrs, msg, mail_options, rcpt_options)\u001b[0m\n\u001b[1;32m    884\u001b[0m             \u001b[0;31m# the server refused all our recipients\u001b[0m\u001b[0;34m\u001b[0m\u001b[0;34m\u001b[0m\u001b[0;34m\u001b[0m\u001b[0m\n\u001b[1;32m    885\u001b[0m             \u001b[0mself\u001b[0m\u001b[0;34m.\u001b[0m\u001b[0m_rset\u001b[0m\u001b[0;34m(\u001b[0m\u001b[0;34m)\u001b[0m\u001b[0;34m\u001b[0m\u001b[0;34m\u001b[0m\u001b[0m\n\u001b[0;32m--> 886\u001b[0;31m             \u001b[0;32mraise\u001b[0m \u001b[0mSMTPRecipientsRefused\u001b[0m\u001b[0;34m(\u001b[0m\u001b[0msenderrs\u001b[0m\u001b[0;34m)\u001b[0m\u001b[0;34m\u001b[0m\u001b[0;34m\u001b[0m\u001b[0m\n\u001b[0m\u001b[1;32m    887\u001b[0m         \u001b[0;34m(\u001b[0m\u001b[0mcode\u001b[0m\u001b[0;34m,\u001b[0m \u001b[0mresp\u001b[0m\u001b[0;34m)\u001b[0m \u001b[0;34m=\u001b[0m \u001b[0mself\u001b[0m\u001b[0;34m.\u001b[0m\u001b[0mdata\u001b[0m\u001b[0;34m(\u001b[0m\u001b[0mmsg\u001b[0m\u001b[0;34m)\u001b[0m\u001b[0;34m\u001b[0m\u001b[0;34m\u001b[0m\u001b[0m\n\u001b[1;32m    888\u001b[0m         \u001b[0;32mif\u001b[0m \u001b[0mcode\u001b[0m \u001b[0;34m!=\u001b[0m \u001b[0;36m250\u001b[0m\u001b[0;34m:\u001b[0m\u001b[0;34m\u001b[0m\u001b[0;34m\u001b[0m\u001b[0m\n",
            "\u001b[0;31mSMTPRecipientsRefused\u001b[0m: {'enter user email here': (553, b'5.1.3 The recipient address <enter> is not a valid RFC-5321 address. Learn\\n5.1.3 more at\\n5.1.3  https://support.google.com/mail/answer/6596 e8sm9132821pja.9 - gsmtp')}"
          ]
        }
      ]
    },
    {
      "cell_type": "code",
      "source": [
        "# Used few attributes per person because we have a small sample and wanted to show our idea, and how it works\n",
        "# This code takes into account the most important factors (budget, location, and bedtime), not the other ones yet\n"
      ],
      "metadata": {
        "id": "jE5EHAThmNef"
      },
      "execution_count": null,
      "outputs": []
    },
    {
      "cell_type": "code",
      "source": [
        ""
      ],
      "metadata": {
        "id": "C_qtgFpoI9M1"
      },
      "execution_count": null,
      "outputs": []
    }
  ]
}